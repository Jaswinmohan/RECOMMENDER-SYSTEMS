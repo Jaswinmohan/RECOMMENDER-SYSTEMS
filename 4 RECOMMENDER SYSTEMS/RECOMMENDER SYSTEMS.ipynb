{
 "cells": [
  {
   "cell_type": "markdown",
   "metadata": {},
   "source": [
    "# RECOMMENDER SYSTEMS\n",
    "\n",
    "This notebook will help you to create an **easy-to-replicate** Movie Recommendation System. You will write a movie name and the system will recommend several movies accordingly. I will divide this study into 3 sections:\n",
    "1. Exploring and preparing data\n",
    "2. Creating the initial recommender system using item-based collaborative filtering\n",
    "3. Enhancing the recommender system by using movie overviews and movie tags\n"
   ]
  },
  {
   "cell_type": "code",
   "execution_count": 27,
   "metadata": {
    "execution": {
     "iopub.execute_input": "2023-09-04T22:04:51.938187Z",
     "iopub.status.busy": "2023-09-04T22:04:51.937566Z",
     "iopub.status.idle": "2023-09-04T22:04:51.946361Z",
     "shell.execute_reply": "2023-09-04T22:04:51.945289Z",
     "shell.execute_reply.started": "2023-09-04T22:04:51.938148Z"
    }
   },
   "outputs": [],
   "source": [
    "import numpy as np\n",
    "import pandas as pd\n",
    "import matplotlib.pyplot as plt\n",
    "from collections import Counter\n",
    "from sklearn.neighbors import NearestNeighbors"
   ]
  },
  {
   "cell_type": "markdown",
   "metadata": {},
   "source": [
    "## Part 1. EDA and Data Preparation"
   ]
  },
  {
   "cell_type": "code",
   "execution_count": 28,
   "metadata": {
    "execution": {
     "iopub.execute_input": "2023-09-04T22:04:51.949778Z",
     "iopub.status.busy": "2023-09-04T22:04:51.94865Z",
     "iopub.status.idle": "2023-09-04T22:05:09.618473Z",
     "shell.execute_reply": "2023-09-04T22:05:09.617001Z",
     "shell.execute_reply.started": "2023-09-04T22:04:51.949725Z"
    }
   },
   "outputs": [
    {
     "name": "stdout",
     "output_type": "stream",
     "text": [
      "Unique Values for Each Column: \n",
      "userId     270896\n",
      "movieId     45115\n",
      "rating         10\n",
      "dtype: int64 \n",
      "\n",
      "There are 26024289 ratings in total \n",
      "\n"
     ]
    },
    {
     "data": {
      "text/html": [
       "<div>\n",
       "<style scoped>\n",
       "    .dataframe tbody tr th:only-of-type {\n",
       "        vertical-align: middle;\n",
       "    }\n",
       "\n",
       "    .dataframe tbody tr th {\n",
       "        vertical-align: top;\n",
       "    }\n",
       "\n",
       "    .dataframe thead th {\n",
       "        text-align: right;\n",
       "    }\n",
       "</style>\n",
       "<table border=\"1\" class=\"dataframe\">\n",
       "  <thead>\n",
       "    <tr style=\"text-align: right;\">\n",
       "      <th></th>\n",
       "      <th>userId</th>\n",
       "      <th>movieId</th>\n",
       "      <th>rating</th>\n",
       "    </tr>\n",
       "  </thead>\n",
       "  <tbody>\n",
       "    <tr>\n",
       "      <th>0</th>\n",
       "      <td>1</td>\n",
       "      <td>110</td>\n",
       "      <td>1.0</td>\n",
       "    </tr>\n",
       "    <tr>\n",
       "      <th>1</th>\n",
       "      <td>1</td>\n",
       "      <td>147</td>\n",
       "      <td>4.5</td>\n",
       "    </tr>\n",
       "  </tbody>\n",
       "</table>\n",
       "</div>"
      ],
      "text/plain": [
       "   userId  movieId  rating\n",
       "0       1      110     1.0\n",
       "1       1      147     4.5"
      ]
     },
     "execution_count": 28,
     "metadata": {},
     "output_type": "execute_result"
    }
   ],
   "source": [
    "df = pd. read_csv('ratings.csv')\n",
    "df.drop(['timestamp'], axis=1, inplace=True)\n",
    "df['movieId'] = df['movieId'].astype(int, errors='ignore')\n",
    "\n",
    "print(f'Unique Values for Each Column: \\n{df.apply(pd.Series.nunique)} \\n')\n",
    "print(f'There are {len(df)} ratings in total \\n')\n",
    "df.head(2)\n"
   ]
  },
  {
   "cell_type": "markdown",
   "metadata": {},
   "source": [
    "We can see that the dataset is large; contains 26m ratings from 270k users.\n",
    "Now, we can check the distribution of ratings to see if the rating distribution is normal."
   ]
  },
  {
   "cell_type": "code",
   "execution_count": 29,
   "metadata": {
    "execution": {
     "iopub.execute_input": "2023-09-04T22:05:09.620782Z",
     "iopub.status.busy": "2023-09-04T22:05:09.620341Z",
     "iopub.status.idle": "2023-09-04T22:05:12.271863Z",
     "shell.execute_reply": "2023-09-04T22:05:12.270313Z",
     "shell.execute_reply.started": "2023-09-04T22:05:09.620739Z"
    }
   },
   "outputs": [
    {
     "name": "stdout",
     "output_type": "stream",
     "text": [
      "Mean value is 3.53\n"
     ]
    },
    {
     "data": {
      "text/plain": [
       "<Axes: title={'center': 'Rating Frequency Chart'}, ylabel='Frequency'>"
      ]
     },
     "execution_count": 29,
     "metadata": {},
     "output_type": "execute_result"
    },
    {
     "data": {
      "image/png": "[encoded data removed]",
      "text/plain": [
       "<Figure size 640x480 with 1 Axes>"
      ]
     },
     "metadata": {},
     "output_type": "display_data"
    }
   ],
   "source": [
    "df_mean = df['rating'].mean()\n",
    "print(f'Mean value is {df_mean:.2f}')\n",
    "df['rating'].plot(kind='hist', bins=9, title='Rating Frequency Chart')"
   ]
  },
  {
   "cell_type": "markdown",
   "metadata": {},
   "source": [
    "The answer is no. Mean rating is 3.53 and we can see that people have tendency to rate 4.5 and 5.0 a lot. \n",
    "\n",
    "For the next step, we need to combine other data files (movies_metadata.csv, links.csv, keywords.csv). Each of them contains data that we will be using later on. \n",
    "\n",
    "Please note that \"id\" column in movies_metadata.csv and keywords.csv are not movie_id, but in fact tmdbId. It took me some time to realize that during merging files."
   ]
  },
  {
   "cell_type": "code",
   "execution_count": 30,
   "metadata": {
    "execution": {
     "iopub.execute_input": "2023-09-04T22:05:12.275762Z",
     "iopub.status.busy": "2023-09-04T22:05:12.274471Z",
     "iopub.status.idle": "2023-09-04T22:05:13.2005Z",
     "shell.execute_reply": "2023-09-04T22:05:13.198762Z",
     "shell.execute_reply.started": "2023-09-04T22:05:12.275725Z"
    }
   },
   "outputs": [],
   "source": [
    "df_meta = pd.read_csv('movies_metadata.csv',\n",
    "                      on_bad_lines='skip', low_memory=False)\n",
    "\n",
    "df_meta.rename(columns={'id': 'tmdbId'}, inplace=True)\n",
    "df_meta[\"tmdbId\"] =pd.to_numeric(df_meta['tmdbId'], errors='coerce',downcast=\"integer\")"
   ]
  },
  {
   "cell_type": "code",
   "execution_count": 31,
   "metadata": {
    "execution": {
     "iopub.execute_input": "2023-09-04T22:05:13.20284Z",
     "iopub.status.busy": "2023-09-04T22:05:13.202394Z",
     "iopub.status.idle": "2023-09-04T22:05:13.248701Z",
     "shell.execute_reply": "2023-09-04T22:05:13.246957Z",
     "shell.execute_reply.started": "2023-09-04T22:05:13.202796Z"
    }
   },
   "outputs": [],
   "source": [
    "#Taking movieId and tmdbId(id column at metadata) from links file\n",
    "df_links = pd.read_csv('links.csv',\n",
    "                      on_bad_lines='skip', low_memory=False)\n",
    "df_links = df_links[['movieId', 'tmdbId']]\n",
    "df_links.drop_duplicates(subset=['tmdbId'], inplace=True)"
   ]
  },
  {
   "cell_type": "code",
   "execution_count": 32,
   "metadata": {
    "execution": {
     "iopub.execute_input": "2023-09-04T22:05:13.253313Z",
     "iopub.status.busy": "2023-09-04T22:05:13.252026Z",
     "iopub.status.idle": "2023-09-04T22:05:13.371973Z",
     "shell.execute_reply": "2023-09-04T22:05:13.370885Z",
     "shell.execute_reply.started": "2023-09-04T22:05:13.253259Z"
    }
   },
   "outputs": [],
   "source": [
    "#Taking keywords from keywords file\n",
    "df_keywords = pd.read_csv('keywords.csv',\n",
    "                      on_bad_lines='skip')\n",
    "df_keywords.rename(columns={'id': 'tmdbId'}, inplace=True)"
   ]
  },
  {
   "cell_type": "code",
   "execution_count": 33,
   "metadata": {
    "execution": {
     "iopub.execute_input": "2023-09-04T22:05:13.37481Z",
     "iopub.status.busy": "2023-09-04T22:05:13.373574Z",
     "iopub.status.idle": "2023-09-04T22:05:13.675756Z",
     "shell.execute_reply": "2023-09-04T22:05:13.674554Z",
     "shell.execute_reply.started": "2023-09-04T22:05:13.374755Z"
    }
   },
   "outputs": [
    {
     "data": {
      "text/html": [
       "<div>\n",
       "<style scoped>\n",
       "    .dataframe tbody tr th:only-of-type {\n",
       "        vertical-align: middle;\n",
       "    }\n",
       "\n",
       "    .dataframe tbody tr th {\n",
       "        vertical-align: top;\n",
       "    }\n",
       "\n",
       "    .dataframe thead th {\n",
       "        text-align: right;\n",
       "    }\n",
       "</style>\n",
       "<table border=\"1\" class=\"dataframe\">\n",
       "  <thead>\n",
       "    <tr style=\"text-align: right;\">\n",
       "      <th></th>\n",
       "      <th>movieId</th>\n",
       "      <th>tmdbId</th>\n",
       "      <th>adult</th>\n",
       "      <th>belongs_to_collection</th>\n",
       "      <th>budget</th>\n",
       "      <th>genres</th>\n",
       "      <th>homepage</th>\n",
       "      <th>imdb_id</th>\n",
       "      <th>original_language</th>\n",
       "      <th>original_title</th>\n",
       "      <th>...</th>\n",
       "      <th>revenue</th>\n",
       "      <th>runtime</th>\n",
       "      <th>spoken_languages</th>\n",
       "      <th>status</th>\n",
       "      <th>tagline</th>\n",
       "      <th>title</th>\n",
       "      <th>video</th>\n",
       "      <th>vote_average</th>\n",
       "      <th>vote_count</th>\n",
       "      <th>keywords</th>\n",
       "    </tr>\n",
       "  </thead>\n",
       "  <tbody>\n",
       "    <tr>\n",
       "      <th>0</th>\n",
       "      <td>1</td>\n",
       "      <td>862.0</td>\n",
       "      <td>False</td>\n",
       "      <td>{'id': 10194, 'name': 'Toy Story Collection', ...</td>\n",
       "      <td>30000000</td>\n",
       "      <td>[{'id': 16, 'name': 'Animation'}, {'id': 35, '...</td>\n",
       "      <td>http://toystory.disney.com/toy-story</td>\n",
       "      <td>tt0114709</td>\n",
       "      <td>en</td>\n",
       "      <td>Toy Story</td>\n",
       "      <td>...</td>\n",
       "      <td>373554033.0</td>\n",
       "      <td>81.0</td>\n",
       "      <td>[{'iso_639_1': 'en', 'name': 'English'}]</td>\n",
       "      <td>Released</td>\n",
       "      <td>NaN</td>\n",
       "      <td>Toy Story</td>\n",
       "      <td>False</td>\n",
       "      <td>7.7</td>\n",
       "      <td>5415.0</td>\n",
       "      <td>[{'id': 931, 'name': 'jealousy'}, {'id': 4290,...</td>\n",
       "    </tr>\n",
       "    <tr>\n",
       "      <th>1</th>\n",
       "      <td>2</td>\n",
       "      <td>8844.0</td>\n",
       "      <td>False</td>\n",
       "      <td>NaN</td>\n",
       "      <td>65000000</td>\n",
       "      <td>[{'id': 12, 'name': 'Adventure'}, {'id': 14, '...</td>\n",
       "      <td>NaN</td>\n",
       "      <td>tt0113497</td>\n",
       "      <td>en</td>\n",
       "      <td>Jumanji</td>\n",
       "      <td>...</td>\n",
       "      <td>262797249.0</td>\n",
       "      <td>104.0</td>\n",
       "      <td>[{'iso_639_1': 'en', 'name': 'English'}, {'iso...</td>\n",
       "      <td>Released</td>\n",
       "      <td>Roll the dice and unleash the excitement!</td>\n",
       "      <td>Jumanji</td>\n",
       "      <td>False</td>\n",
       "      <td>6.9</td>\n",
       "      <td>2413.0</td>\n",
       "      <td>[{'id': 10090, 'name': 'board game'}, {'id': 1...</td>\n",
       "    </tr>\n",
       "  </tbody>\n",
       "</table>\n",
       "<p>2 rows × 26 columns</p>\n",
       "</div>"
      ],
      "text/plain": [
       "   movieId  tmdbId  adult                              belongs_to_collection  \\\n",
       "0        1   862.0  False  {'id': 10194, 'name': 'Toy Story Collection', ...   \n",
       "1        2  8844.0  False                                                NaN   \n",
       "\n",
       "     budget                                             genres  \\\n",
       "0  30000000  [{'id': 16, 'name': 'Animation'}, {'id': 35, '...   \n",
       "1  65000000  [{'id': 12, 'name': 'Adventure'}, {'id': 14, '...   \n",
       "\n",
       "                               homepage    imdb_id original_language  \\\n",
       "0  http://toystory.disney.com/toy-story  tt0114709                en   \n",
       "1                                   NaN  tt0113497                en   \n",
       "\n",
       "  original_title  ...      revenue runtime  \\\n",
       "0      Toy Story  ...  373554033.0    81.0   \n",
       "1        Jumanji  ...  262797249.0   104.0   \n",
       "\n",
       "                                    spoken_languages    status  \\\n",
       "0           [{'iso_639_1': 'en', 'name': 'English'}]  Released   \n",
       "1  [{'iso_639_1': 'en', 'name': 'English'}, {'iso...  Released   \n",
       "\n",
       "                                     tagline      title  video  vote_average  \\\n",
       "0                                        NaN  Toy Story  False           7.7   \n",
       "1  Roll the dice and unleash the excitement!    Jumanji  False           6.9   \n",
       "\n",
       "  vote_count                                           keywords  \n",
       "0     5415.0  [{'id': 931, 'name': 'jealousy'}, {'id': 4290,...  \n",
       "1     2413.0  [{'id': 10090, 'name': 'board game'}, {'id': 1...  \n",
       "\n",
       "[2 rows x 26 columns]"
      ]
     },
     "execution_count": 33,
     "metadata": {},
     "output_type": "execute_result"
    }
   ],
   "source": [
    "#Merging DataFrames, keeping only movieId and title, removing bad lines\n",
    "df_meta = pd.merge(df_links, df_meta, how='inner', on='tmdbId')\n",
    "df_meta[\"movieId\"] =pd.to_numeric(df_meta['movieId'], errors='coerce',downcast=\"integer\")\n",
    "df_meta.dropna(subset=[\"movieId\"],inplace=True)\n",
    "df_meta = pd.merge(df_meta, df_keywords, how='left', on='tmdbId')\n",
    "df_meta.head(2)"
   ]
  },
  {
   "cell_type": "markdown",
   "metadata": {
    "execution": {
     "iopub.execute_input": "2023-08-10T17:13:40.904396Z",
     "iopub.status.busy": "2023-08-10T17:13:40.903954Z",
     "iopub.status.idle": "2023-08-10T17:13:42.102107Z",
     "shell.execute_reply": "2023-08-10T17:13:42.100773Z",
     "shell.execute_reply.started": "2023-08-10T17:13:40.904363Z"
    }
   },
   "source": [
    "Now we have a DataFrame named \"df_meta\" that contains all data regarding movies, combined. \n",
    "Description of important columns:\n",
    "\n",
    "* movieId: the unique id for each movie in this dataset\n",
    "\n",
    "* budget - the budget of the movie, contains many \"0\" values - not reliable\n",
    "\n",
    "* original_language - the language that the movie was made\n",
    "\n",
    "* original_title - the original name of the movie\n",
    "\n",
    "* overview - a short summary of the movie\n",
    "\n",
    "* revenue - worldwide generated revenue in USD\n",
    "\n",
    "* runtime - the length of the movie in minutes\n",
    "\n",
    "* votecount - the total amount of votes that the movie received in this dataset\n",
    "\n",
    "* keywords - tags for the movie, each tag also has an id"
   ]
  },
  {
   "cell_type": "code",
   "execution_count": 34,
   "metadata": {
    "execution": {
     "iopub.execute_input": "2023-09-04T22:05:13.678808Z",
     "iopub.status.busy": "2023-09-04T22:05:13.678253Z",
     "iopub.status.idle": "2023-09-04T22:05:21.210919Z",
     "shell.execute_reply": "2023-09-04T22:05:21.209398Z",
     "shell.execute_reply.started": "2023-09-04T22:05:13.678763Z"
    }
   },
   "outputs": [
    {
     "name": "stdout",
     "output_type": "stream",
     "text": [
      "<class 'pandas.core.frame.DataFrame'>\n",
      "Int64Index: 26025228 entries, 0 to 26025227\n",
      "Data columns (total 9 columns):\n",
      " #   Column             Dtype  \n",
      "---  ------             -----  \n",
      " 0   userId             int64  \n",
      " 1   movieId            int32  \n",
      " 2   rating             float64\n",
      " 3   original_language  object \n",
      " 4   original_title     object \n",
      " 5   overview           object \n",
      " 6   revenue            float64\n",
      " 7   runtime            float64\n",
      " 8   keywords           object \n",
      "dtypes: float64(3), int32(1), int64(1), object(4)\n",
      "memory usage: 1.8+ GB\n",
      "None\n",
      "\n"
     ]
    }
   ],
   "source": [
    "df_meta = df_meta[['movieId', 'original_language', 'original_title', 'overview', 'revenue', 'runtime', 'keywords']]\n",
    "df = pd.merge(df, df_meta, on=\"movieId\",how=\"inner\")\n",
    "print(f'{df.info()}\\n')\n"
   ]
  },
  {
   "cell_type": "markdown",
   "metadata": {},
   "source": [
    "Now we have a huge DataFrame named \"df\" that contains all the data, inc. ratings. This approach is not the efficient one, but our resources can handle 26m entries with ease.\n",
    "\n",
    "Now, I will eliminate some users and some movies. The reason is:\n",
    "1. I don't want a \"too sparse rating matrix\". Therefore, users that rated only several movies and unpopular movies will be eliminated.\n",
    "2. I only want movies with original language \"English\". "
   ]
  },
  {
   "cell_type": "code",
   "execution_count": 35,
   "metadata": {
    "execution": {
     "iopub.execute_input": "2023-09-04T22:05:21.215689Z",
     "iopub.status.busy": "2023-09-04T22:05:21.215288Z",
     "iopub.status.idle": "2023-09-04T22:05:52.033542Z",
     "shell.execute_reply": "2023-09-04T22:05:52.032007Z",
     "shell.execute_reply.started": "2023-09-04T22:05:21.21565Z"
    }
   },
   "outputs": [
    {
     "name": "stdout",
     "output_type": "stream",
     "text": [
      "In total, we will consider 41419 voters as they voted for more than 150 movies\n",
      "In total, we will consider 3476 movies as they are voted by  more than 1000 users\n"
     ]
    }
   ],
   "source": [
    "df.drop(df[df['original_language'] != 'en'].index, inplace=True)\n",
    "\n",
    "user_groupby = pd.Series(Counter(df['userId']))\n",
    "freq_voters = user_groupby.loc[lambda x : x > 150]\n",
    "print(f'In total, we will consider {freq_voters.size} voters as they voted for more than 150 movies')\n",
    "\n",
    "movies_groupby = pd.Series(Counter(df['movieId']))\n",
    "popular_movies = movies_groupby.loc[lambda x : x > 1000]\n",
    "print(f'In total, we will consider {popular_movies.size} movies as they are voted by  more than 1000 users')\n",
    "\n",
    "freq_voters = np.array(freq_voters.index)\n",
    "popular_movies = np.array(popular_movies.index)"
   ]
  },
  {
   "cell_type": "code",
   "execution_count": 36,
   "metadata": {
    "execution": {
     "iopub.execute_input": "2023-09-04T22:05:52.035393Z",
     "iopub.status.busy": "2023-09-04T22:05:52.035048Z",
     "iopub.status.idle": "2023-09-04T22:06:15.532312Z",
     "shell.execute_reply": "2023-09-04T22:06:15.530756Z",
     "shell.execute_reply.started": "2023-09-04T22:05:52.035362Z"
    }
   },
   "outputs": [
    {
     "name": "stdout",
     "output_type": "stream",
     "text": [
      "<class 'pandas.core.frame.DataFrame'>\n",
      "Int64Index: 14315076 entries, 1 to 25344669\n",
      "Data columns (total 9 columns):\n",
      " #   Column             Dtype  \n",
      "---  ------             -----  \n",
      " 0   userId             int64  \n",
      " 1   movieId            int32  \n",
      " 2   rating             float64\n",
      " 3   original_language  object \n",
      " 4   original_title     object \n",
      " 5   overview           object \n",
      " 6   revenue            float64\n",
      " 7   runtime            float64\n",
      " 8   keywords           object \n",
      "dtypes: float64(3), int32(1), int64(1), object(4)\n",
      "memory usage: 1.0+ GB\n",
      "None\n",
      "\n"
     ]
    }
   ],
   "source": [
    "df = df[df['userId'].isin(freq_voters)]\n",
    "df = df[df['movieId'].isin(popular_movies)]\n",
    "df.dropna(inplace=True)\n",
    "print(f'{df.info()}\\n')"
   ]
  },
  {
   "cell_type": "markdown",
   "metadata": {},
   "source": [
    "Even though I dropped non-English movies, movies that are rated less than 1,000 times and users that rated less than 150 movies; there is still more than 14m datapoints and it's more than enough to create a decent recommender system.\n",
    "\n",
    "Now our dataframe is totaly ready; we can complete our recommender system only by using parts of our dataframe."
   ]
  },
  {
   "cell_type": "markdown",
   "metadata": {},
   "source": [
    "## Part 2. Collaborative Filtering\n",
    "\n",
    "First, we will create a rating matrix, rows are users' ratings and columns are movies. DataFrame's pivot_table method is a shortcut for this task.\n",
    "We can expect a sparse matrix."
   ]
  },
  {
   "cell_type": "code",
   "execution_count": 37,
   "metadata": {
    "execution": {
     "iopub.execute_input": "2023-09-04T22:06:15.533886Z",
     "iopub.status.busy": "2023-09-04T22:06:15.533564Z",
     "iopub.status.idle": "2023-09-04T22:06:37.321449Z",
     "shell.execute_reply": "2023-09-04T22:06:37.319714Z",
     "shell.execute_reply.started": "2023-09-04T22:06:15.533857Z"
    }
   },
   "outputs": [
    {
     "name": "stdout",
     "output_type": "stream",
     "text": [
      "<class 'pandas.core.frame.DataFrame'>\n",
      "Index: 3417 entries, (500) Days of Summer to Æon Flux\n",
      "Columns: 41419 entries, 11 to 270896\n",
      "dtypes: float64(41419)\n",
      "memory usage: 1.1+ GB\n",
      "<class 'pandas.core.frame.DataFrame'>\n",
      "Index: 3417 entries, (500) Days of Summer to Æon Flux\n",
      "Columns: 41419 entries, 11 to 270896\n",
      "dtypes: float64(41419)\n",
      "memory usage: 1.1+ GB\n",
      "None\n",
      "\n"
     ]
    }
   ],
   "source": [
    "df_matrix =  df[['userId', 'original_title', 'rating']]\n",
    "rating_matrix = df_matrix.pivot_table(index='original_title',  columns='userId', values='rating')\n",
    "rating_matrix.info()\n",
    "print(f'{rating_matrix.info()}\\n')\n"
   ]
  },
  {
   "cell_type": "markdown",
   "metadata": {},
   "source": [
    "We need to fill each cell, cannot keep Nan.\n",
    "\n",
    "There are several alternative ways for this, I have chosen filling with 0 and keep a sparse matrix form. In other instances, such as reducing dimensionality using SVD, filling with row averages also yield good result."
   ]
  },
  {
   "cell_type": "code",
   "execution_count": 38,
   "metadata": {
    "execution": {
     "iopub.execute_input": "2023-09-04T22:06:37.323313Z",
     "iopub.status.busy": "2023-09-04T22:06:37.322951Z",
     "iopub.status.idle": "2023-09-04T22:06:45.111696Z",
     "shell.execute_reply": "2023-09-04T22:06:45.110049Z",
     "shell.execute_reply.started": "2023-09-04T22:06:37.323283Z"
    }
   },
   "outputs": [
    {
     "name": "stdout",
     "output_type": "stream",
     "text": [
      "<class 'pandas.core.frame.DataFrame'>\n",
      "Index: 3417 entries, (500) Days of Summer to Æon Flux\n",
      "Columns: 41419 entries, 11 to 270896\n",
      "dtypes: float64(41419)\n",
      "memory usage: 1.1+ GB\n"
     ]
    }
   ],
   "source": [
    "rating_matrix_filled = rating_matrix.apply(lambda row: row.fillna(0), axis=1)\n",
    "rating_matrix_filled.info()"
   ]
  },
  {
   "cell_type": "markdown",
   "metadata": {},
   "source": [
    "As we have a large dataset, we can use a flexible model. I will use KNN, which is highly flexible. Additionly, KNN is non-parametric (checking item similarity by checking distance between them in N-dimensional space) so I do not need to make assumptions about the distribution.\n",
    "\n",
    "There are different distance metrics for KNN. I tried ecludian distance, but cosine similarity is working slightly better."
   ]
  },
  {
   "cell_type": "code",
   "execution_count": 39,
   "metadata": {
    "execution": {
     "iopub.execute_input": "2023-09-04T22:06:45.113676Z",
     "iopub.status.busy": "2023-09-04T22:06:45.113273Z",
     "iopub.status.idle": "2023-09-04T22:06:47.274137Z",
     "shell.execute_reply": "2023-09-04T22:06:47.272417Z",
     "shell.execute_reply.started": "2023-09-04T22:06:45.113636Z"
    }
   },
   "outputs": [
    {
     "data": {
      "text/html": [
       "<style>#sk-container-id-2 {color: black;}#sk-container-id-2 pre{padding: 0;}#sk-container-id-2 div.sk-toggleable {background-color: white;}#sk-container-id-2 label.sk-toggleable__label {cursor: pointer;display: block;width: 100%;margin-bottom: 0;padding: 0.3em;box-sizing: border-box;text-align: center;}#sk-container-id-2 label.sk-toggleable__label-arrow:before {content: \"▸\";float: left;margin-right: 0.25em;color: #696969;}#sk-container-id-2 label.sk-toggleable__label-arrow:hover:before {color: black;}#sk-container-id-2 div.sk-estimator:hover label.sk-toggleable__label-arrow:before {color: black;}#sk-container-id-2 div.sk-toggleable__content {max-height: 0;max-width: 0;overflow: hidden;text-align: left;background-color: #f0f8ff;}#sk-container-id-2 div.sk-toggleable__content pre {margin: 0.2em;color: black;border-radius: 0.25em;background-color: #f0f8ff;}#sk-container-id-2 input.sk-toggleable__control:checked~div.sk-toggleable__content {max-height: 200px;max-width: 100%;overflow: auto;}#sk-container-id-2 input.sk-toggleable__control:checked~label.sk-toggleable__label-arrow:before {content: \"▾\";}#sk-container-id-2 div.sk-estimator input.sk-toggleable__control:checked~label.sk-toggleable__label {background-color: #d4ebff;}#sk-container-id-2 div.sk-label input.sk-toggleable__control:checked~label.sk-toggleable__label {background-color: #d4ebff;}#sk-container-id-2 input.sk-hidden--visually {border: 0;clip: rect(1px 1px 1px 1px);clip: rect(1px, 1px, 1px, 1px);height: 1px;margin: -1px;overflow: hidden;padding: 0;position: absolute;width: 1px;}#sk-container-id-2 div.sk-estimator {font-family: monospace;background-color: #f0f8ff;border: 1px dotted black;border-radius: 0.25em;box-sizing: border-box;margin-bottom: 0.5em;}#sk-container-id-2 div.sk-estimator:hover {background-color: #d4ebff;}#sk-container-id-2 div.sk-parallel-item::after {content: \"\";width: 100%;border-bottom: 1px solid gray;flex-grow: 1;}#sk-container-id-2 div.sk-label:hover label.sk-toggleable__label {background-color: #d4ebff;}#sk-container-id-2 div.sk-serial::before {content: \"\";position: absolute;border-left: 1px solid gray;box-sizing: border-box;top: 0;bottom: 0;left: 50%;z-index: 0;}#sk-container-id-2 div.sk-serial {display: flex;flex-direction: column;align-items: center;background-color: white;padding-right: 0.2em;padding-left: 0.2em;position: relative;}#sk-container-id-2 div.sk-item {position: relative;z-index: 1;}#sk-container-id-2 div.sk-parallel {display: flex;align-items: stretch;justify-content: center;background-color: white;position: relative;}#sk-container-id-2 div.sk-item::before, #sk-container-id-2 div.sk-parallel-item::before {content: \"\";position: absolute;border-left: 1px solid gray;box-sizing: border-box;top: 0;bottom: 0;left: 50%;z-index: -1;}#sk-container-id-2 div.sk-parallel-item {display: flex;flex-direction: column;z-index: 1;position: relative;background-color: white;}#sk-container-id-2 div.sk-parallel-item:first-child::after {align-self: flex-end;width: 50%;}#sk-container-id-2 div.sk-parallel-item:last-child::after {align-self: flex-start;width: 50%;}#sk-container-id-2 div.sk-parallel-item:only-child::after {width: 0;}#sk-container-id-2 div.sk-dashed-wrapped {border: 1px dashed gray;margin: 0 0.4em 0.5em 0.4em;box-sizing: border-box;padding-bottom: 0.4em;background-color: white;}#sk-container-id-2 div.sk-label label {font-family: monospace;font-weight: bold;display: inline-block;line-height: 1.2em;}#sk-container-id-2 div.sk-label-container {text-align: center;}#sk-container-id-2 div.sk-container {/* jupyter's `normalize.less` sets `[hidden] { display: none; }` but bootstrap.min.css set `[hidden] { display: none !important; }` so we also need the `!important` here to be able to override the default hidden behavior on the sphinx rendered scikit-learn.org. See: https://github.com/scikit-learn/scikit-learn/issues/21755 */display: inline-block !important;position: relative;}#sk-container-id-2 div.sk-text-repr-fallback {display: none;}</style><div id=\"sk-container-id-2\" class=\"sk-top-container\"><div class=\"sk-text-repr-fallback\"><pre>NearestNeighbors(algorithm=&#x27;brute&#x27;, metric=&#x27;cosine&#x27;, n_jobs=2, n_neighbors=20)</pre><b>In a Jupyter environment, please rerun this cell to show the HTML representation or trust the notebook. <br />On GitHub, the HTML representation is unable to render, please try loading this page with nbviewer.org.</b></div><div class=\"sk-container\" hidden><div class=\"sk-item\"><div class=\"sk-estimator sk-toggleable\"><input class=\"sk-toggleable__control sk-hidden--visually\" id=\"sk-estimator-id-2\" type=\"checkbox\" checked><label for=\"sk-estimator-id-2\" class=\"sk-toggleable__label sk-toggleable__label-arrow\">NearestNeighbors</label><div class=\"sk-toggleable__content\"><pre>NearestNeighbors(algorithm=&#x27;brute&#x27;, metric=&#x27;cosine&#x27;, n_jobs=2, n_neighbors=20)</pre></div></div></div></div></div>"
      ],
      "text/plain": [
       "NearestNeighbors(algorithm='brute', metric='cosine', n_jobs=2, n_neighbors=20)"
      ]
     },
     "execution_count": 39,
     "metadata": {},
     "output_type": "execute_result"
    }
   ],
   "source": [
    "#Training KNN model\n",
    "knn = NearestNeighbors(metric='cosine', algorithm='brute', n_neighbors=20, n_jobs=2)\n",
    "knn.fit(rating_matrix_filled)"
   ]
  },
  {
   "cell_type": "code",
   "execution_count": 40,
   "metadata": {
    "execution": {
     "iopub.execute_input": "2023-09-04T22:06:47.276302Z",
     "iopub.status.busy": "2023-09-04T22:06:47.275938Z",
     "iopub.status.idle": "2023-09-04T22:06:47.284681Z",
     "shell.execute_reply": "2023-09-04T22:06:47.283303Z",
     "shell.execute_reply.started": "2023-09-04T22:06:47.27627Z"
    }
   },
   "outputs": [],
   "source": [
    "def movieRecommender(movie_name, knn, matrix):\n",
    "  try:\n",
    "    dist, idx = knn.kneighbors(matrix.loc[movie_name].values.reshape(1,-1),n_neighbors=20)\n",
    "    print(f'For your selection of {movie_name}, I will recommend \\n')\n",
    "    for i in range(1, len(dist.flatten())):\n",
    "      movie_name = matrix.index[idx.flatten()[i]]\n",
    "      print(f'{i}- {movie_name}, distance is {dist.flatten()[i]:.3f}')\n",
    "  except:\n",
    "    print(f'The movie {movie_name} is not in our database. \\n Please note that our database contains only popular movies up until mid 2017.')"
   ]
  },
  {
   "cell_type": "markdown",
   "metadata": {},
   "source": [
    "Now it's time to try our recommender system with an example movie:"
   ]
  },
  {
   "cell_type": "code",
   "execution_count": 41,
   "metadata": {
    "execution": {
     "iopub.execute_input": "2023-09-04T22:06:47.286492Z",
     "iopub.status.busy": "2023-09-04T22:06:47.286123Z",
     "iopub.status.idle": "2023-09-04T22:06:48.107944Z",
     "shell.execute_reply": "2023-09-04T22:06:48.106164Z",
     "shell.execute_reply.started": "2023-09-04T22:06:47.286463Z"
    }
   },
   "outputs": [
    {
     "name": "stdout",
     "output_type": "stream",
     "text": [
      "For your selection of Ace Ventura: Pet Detective, I will recommend \n",
      "\n",
      "1- Dumb and Dumber, distance is 0.268\n",
      "2- Ace Ventura: When Nature Calls, distance is 0.289\n",
      "3- The Mask, distance is 0.309\n",
      "4- Home Alone, distance is 0.359\n",
      "5- Forrest Gump, distance is 0.360\n",
      "6- Jurassic Park, distance is 0.363\n",
      "7- Mrs. Doubtfire, distance is 0.363\n",
      "8- Independence Day, distance is 0.373\n",
      "9- Speed, distance is 0.390\n",
      "10- Mission: Impossible, distance is 0.394\n",
      "11- Terminator 2: Judgment Day, distance is 0.395\n",
      "12- Batman, distance is 0.396\n",
      "13- Pulp Fiction, distance is 0.397\n",
      "14- Batman Forever, distance is 0.400\n",
      "15- Austin Powers: The Spy Who Shagged Me, distance is 0.401\n",
      "16- Back to the Future, distance is 0.402\n",
      "17- Austin Powers: International Man of Mystery, distance is 0.403\n",
      "18- True Lies, distance is 0.404\n",
      "19- Liar Liar, distance is 0.407\n"
     ]
    }
   ],
   "source": [
    "movieRecommender('Ace Ventura: Pet Detective', knn, rating_matrix_filled)"
   ]
  },
  {
   "cell_type": "code",
   "execution_count": 42,
   "metadata": {
    "execution": {
     "iopub.execute_input": "2023-09-04T22:06:48.11899Z",
     "iopub.status.busy": "2023-09-04T22:06:48.116917Z",
     "iopub.status.idle": "2023-09-04T22:06:48.967391Z",
     "shell.execute_reply": "2023-09-04T22:06:48.965673Z",
     "shell.execute_reply.started": "2023-09-04T22:06:48.118897Z"
    }
   },
   "outputs": [
    {
     "name": "stdout",
     "output_type": "stream",
     "text": [
      "For your selection of Batman Begins, I will recommend \n",
      "\n",
      "1- The Dark Knight, distance is 0.234\n",
      "2- The Lord of the Rings: The Return of the King, distance is 0.261\n",
      "3- The Lord of the Rings: The Two Towers, distance is 0.282\n",
      "4- V for Vendetta, distance is 0.287\n",
      "5- The Lord of the Rings: The Fellowship of the Ring, distance is 0.294\n",
      "6- The Incredibles, distance is 0.298\n",
      "7- Pirates of the Caribbean: The Curse of the Black Pearl, distance is 0.299\n",
      "8- Sin City, distance is 0.300\n",
      "9- Iron Man, distance is 0.301\n",
      "10- Kill Bill: Vol. 1, distance is 0.312\n",
      "11- Casino Royale, distance is 0.312\n",
      "12- The Bourne Identity, distance is 0.314\n",
      "13- Spider-Man 2, distance is 0.320\n",
      "14- Kill Bill: Vol. 2, distance is 0.324\n",
      "15- Fight Club, distance is 0.328\n",
      "16- Spider-Man, distance is 0.329\n",
      "17- Star Wars: Episode III - Revenge of the Sith, distance is 0.333\n",
      "18- The Matrix, distance is 0.334\n",
      "19- The Prestige, distance is 0.334\n"
     ]
    }
   ],
   "source": [
    "movieRecommender('Batman Begins', knn, rating_matrix_filled)"
   ]
  },
  {
   "cell_type": "markdown",
   "metadata": {},
   "source": [
    "Our initial recommender system is working OK. I like \"Ace Ventura\" and I also like majority of recommendations listed for that movie.\n",
    "\n",
    "However, recommendations for \"Batman Begins\" is weird. There are 3 LOTR movies in top 5. Yes,LOTR series is great, but it's not very similar to Nolan's Batman triology. We need to improve results by eliminating some recommendations that are not great by using genre/overview data."
   ]
  },
  {
   "cell_type": "markdown",
   "metadata": {},
   "source": [
    "## Part 3. Enhanching our Recommender"
   ]
  },
  {
   "cell_type": "markdown",
   "metadata": {},
   "source": [
    "At the last part, we will try to improve the recommender system by eliminating some recommendations by utilizing the movie overview and the genre data.\n",
    "\n",
    "First, we need to see how similar movie overviews are. But it requires converting sentences to vectors. Luckily, sentence embedding is designed for this task and there are many useful libraries that can do it for us. sentence_transformers library is one of them.\n"
   ]
  },
  {
   "cell_type": "code",
   "execution_count": 43,
   "metadata": {
    "_kg_hide-input": true,
    "_kg_hide-output": true,
    "execution": {
     "iopub.execute_input": "2023-09-04T22:06:48.977539Z",
     "iopub.status.busy": "2023-09-04T22:06:48.975519Z",
     "iopub.status.idle": "2023-09-04T22:07:02.711046Z",
     "shell.execute_reply": "2023-09-04T22:07:02.70953Z",
     "shell.execute_reply.started": "2023-09-04T22:06:48.977452Z"
    }
   },
   "outputs": [
    {
     "name": "stdout",
     "output_type": "stream",
     "text": [
      "Requirement already satisfied: sentence-transformers in c:\\users\\jaswin\\anaconda3\\lib\\site-packages (2.2.2)\n",
      "Requirement already satisfied: transformers<5.0.0,>=4.6.0 in c:\\users\\jaswin\\anaconda3\\lib\\site-packages (from sentence-transformers) (4.33.3)\n",
      "Requirement already satisfied: tqdm in c:\\users\\jaswin\\anaconda3\\lib\\site-packages (from sentence-transformers) (4.65.0)\n",
      "Requirement already satisfied: torch>=1.6.0 in c:\\users\\jaswin\\anaconda3\\lib\\site-packages (from sentence-transformers) (2.0.1)\n",
      "Requirement already satisfied: torchvision in c:\\users\\jaswin\\anaconda3\\lib\\site-packages (from sentence-transformers) (0.15.2)\n",
      "Requirement already satisfied: numpy in c:\\users\\jaswin\\anaconda3\\lib\\site-packages (from sentence-transformers) (1.24.3)\n",
      "Requirement already satisfied: scikit-learn in c:\\users\\jaswin\\anaconda3\\lib\\site-packages (from sentence-transformers) (1.3.0)\n",
      "Requirement already satisfied: scipy in c:\\users\\jaswin\\anaconda3\\lib\\site-packages (from sentence-transformers) (1.10.1)\n",
      "Requirement already satisfied: nltk in c:\\users\\jaswin\\anaconda3\\lib\\site-packages (from sentence-transformers) (3.8.1)\n",
      "Requirement already satisfied: sentencepiece in c:\\users\\jaswin\\anaconda3\\lib\\site-packages (from sentence-transformers) (0.1.99)\n",
      "Requirement already satisfied: huggingface-hub>=0.4.0 in c:\\users\\jaswin\\anaconda3\\lib\\site-packages (from sentence-transformers) (0.17.3)\n",
      "Requirement already satisfied: filelock in c:\\users\\jaswin\\anaconda3\\lib\\site-packages (from huggingface-hub>=0.4.0->sentence-transformers) (3.9.0)\n",
      "Requirement already satisfied: fsspec in c:\\users\\jaswin\\anaconda3\\lib\\site-packages (from huggingface-hub>=0.4.0->sentence-transformers) (2023.3.0)\n",
      "Requirement already satisfied: requests in c:\\users\\jaswin\\anaconda3\\lib\\site-packages (from huggingface-hub>=0.4.0->sentence-transformers) (2.31.0)\n",
      "Requirement already satisfied: pyyaml>=5.1 in c:\\users\\jaswin\\anaconda3\\lib\\site-packages (from huggingface-hub>=0.4.0->sentence-transformers) (6.0)\n",
      "Requirement already satisfied: typing-extensions>=3.7.4.3 in c:\\users\\jaswin\\anaconda3\\lib\\site-packages (from huggingface-hub>=0.4.0->sentence-transformers) (4.5.0)\n",
      "Requirement already satisfied: packaging>=20.9 in c:\\users\\jaswin\\anaconda3\\lib\\site-packages (from huggingface-hub>=0.4.0->sentence-transformers) (23.0)\n",
      "Requirement already satisfied: sympy in c:\\users\\jaswin\\anaconda3\\lib\\site-packages (from torch>=1.6.0->sentence-transformers) (1.11.1)\n",
      "Requirement already satisfied: networkx in c:\\users\\jaswin\\anaconda3\\lib\\site-packages (from torch>=1.6.0->sentence-transformers) (3.1)\n",
      "Requirement already satisfied: jinja2 in c:\\users\\jaswin\\anaconda3\\lib\\site-packages (from torch>=1.6.0->sentence-transformers) (3.1.2)\n",
      "Requirement already satisfied: colorama in c:\\users\\jaswin\\anaconda3\\lib\\site-packages (from tqdm->sentence-transformers) (0.4.6)\n",
      "Requirement already satisfied: regex!=2019.12.17 in c:\\users\\jaswin\\anaconda3\\lib\\site-packages (from transformers<5.0.0,>=4.6.0->sentence-transformers) (2022.7.9)\n",
      "Requirement already satisfied: tokenizers!=0.11.3,<0.14,>=0.11.1 in c:\\users\\jaswin\\anaconda3\\lib\\site-packages (from transformers<5.0.0,>=4.6.0->sentence-transformers) (0.13.3)\n",
      "Requirement already satisfied: safetensors>=0.3.1 in c:\\users\\jaswin\\anaconda3\\lib\\site-packages (from transformers<5.0.0,>=4.6.0->sentence-transformers) (0.3.3)\n",
      "Requirement already satisfied: click in c:\\users\\jaswin\\anaconda3\\lib\\site-packages (from nltk->sentence-transformers) (8.0.4)\n",
      "Requirement already satisfied: joblib in c:\\users\\jaswin\\anaconda3\\lib\\site-packages (from nltk->sentence-transformers) (1.2.0)\n",
      "Requirement already satisfied: threadpoolctl>=2.0.0 in c:\\users\\jaswin\\anaconda3\\lib\\site-packages (from scikit-learn->sentence-transformers) (2.2.0)\n",
      "Requirement already satisfied: pillow!=8.3.*,>=5.3.0 in c:\\users\\jaswin\\anaconda3\\lib\\site-packages (from torchvision->sentence-transformers) (9.4.0)\n",
      "Requirement already satisfied: MarkupSafe>=2.0 in c:\\users\\jaswin\\anaconda3\\lib\\site-packages (from jinja2->torch>=1.6.0->sentence-transformers) (2.1.1)\n",
      "Requirement already satisfied: charset-normalizer<4,>=2 in c:\\users\\jaswin\\anaconda3\\lib\\site-packages (from requests->huggingface-hub>=0.4.0->sentence-transformers) (2.0.4)\n",
      "Requirement already satisfied: idna<4,>=2.5 in c:\\users\\jaswin\\anaconda3\\lib\\site-packages (from requests->huggingface-hub>=0.4.0->sentence-transformers) (3.4)\n",
      "Requirement already satisfied: urllib3<3,>=1.21.1 in c:\\users\\jaswin\\anaconda3\\lib\\site-packages (from requests->huggingface-hub>=0.4.0->sentence-transformers) (1.26.16)\n",
      "Requirement already satisfied: certifi>=2017.4.17 in c:\\users\\jaswin\\anaconda3\\lib\\site-packages (from requests->huggingface-hub>=0.4.0->sentence-transformers) (2023.7.22)\n",
      "Requirement already satisfied: mpmath>=0.19 in c:\\users\\jaswin\\anaconda3\\lib\\site-packages (from sympy->torch>=1.6.0->sentence-transformers) (1.3.0)\n",
      "Note: you may need to restart the kernel to use updated packages.\n"
     ]
    }
   ],
   "source": [
    "pip install -U sentence-transformers"
   ]
  },
  {
   "cell_type": "code",
   "execution_count": 44,
   "metadata": {
    "_kg_hide-output": true,
    "execution": {
     "iopub.execute_input": "2023-09-04T22:07:02.713658Z",
     "iopub.status.busy": "2023-09-04T22:07:02.71324Z",
     "iopub.status.idle": "2023-09-04T22:07:03.159275Z",
     "shell.execute_reply": "2023-09-04T22:07:03.158037Z",
     "shell.execute_reply.started": "2023-09-04T22:07:02.713617Z"
    }
   },
   "outputs": [
    {
     "data": {
      "application/vnd.jupyter.widget-view+json": {
       "model_id": "56577efb29ba41e7b382991410958276",
       "version_major": 2,
       "version_minor": 0
      },
      "text/plain": [
       "Downloading (…)e9125/.gitattributes:   0%|          | 0.00/1.18k [00:00<?, ?B/s]"
      ]
     },
     "metadata": {},
     "output_type": "display_data"
    },
    {
     "data": {
      "application/vnd.jupyter.widget-view+json": {
       "model_id": "f5f41edb4333474da95a85f260ae2645",
       "version_major": 2,
       "version_minor": 0
      },
      "text/plain": [
       "Downloading (…)_Pooling/config.json:   0%|          | 0.00/190 [00:00<?, ?B/s]"
      ]
     },
     "metadata": {},
     "output_type": "display_data"
    },
    {
     "data": {
      "application/vnd.jupyter.widget-view+json": {
       "model_id": "6880a1291dae4438a6472231e1ed44c1",
       "version_major": 2,
       "version_minor": 0
      },
      "text/plain": [
       "Downloading (…)7e55de9125/README.md:   0%|          | 0.00/10.6k [00:00<?, ?B/s]"
      ]
     },
     "metadata": {},
     "output_type": "display_data"
    },
    {
     "data": {
      "application/vnd.jupyter.widget-view+json": {
       "model_id": "56eb068e0f1c4b66b46307efe59db3b8",
       "version_major": 2,
       "version_minor": 0
      },
      "text/plain": [
       "Downloading (…)55de9125/config.json:   0%|          | 0.00/612 [00:00<?, ?B/s]"
      ]
     },
     "metadata": {},
     "output_type": "display_data"
    },
    {
     "data": {
      "application/vnd.jupyter.widget-view+json": {
       "model_id": "9e55b85f1e6e445182f098c93f23781f",
       "version_major": 2,
       "version_minor": 0
      },
      "text/plain": [
       "Downloading (…)ce_transformers.json:   0%|          | 0.00/116 [00:00<?, ?B/s]"
      ]
     },
     "metadata": {},
     "output_type": "display_data"
    },
    {
     "data": {
      "application/vnd.jupyter.widget-view+json": {
       "model_id": "88f2d639118d481bb94e36ae08333cea",
       "version_major": 2,
       "version_minor": 0
      },
      "text/plain": [
       "Downloading (…)125/data_config.json:   0%|          | 0.00/39.3k [00:00<?, ?B/s]"
      ]
     },
     "metadata": {},
     "output_type": "display_data"
    },
    {
     "data": {
      "application/vnd.jupyter.widget-view+json": {
       "model_id": "3ed0cd7e43664de48d1b9eb5ece9ba46",
       "version_major": 2,
       "version_minor": 0
      },
      "text/plain": [
       "Downloading pytorch_model.bin:   0%|          | 0.00/90.9M [00:00<?, ?B/s]"
      ]
     },
     "metadata": {},
     "output_type": "display_data"
    },
    {
     "data": {
      "application/vnd.jupyter.widget-view+json": {
       "model_id": "d76e4aaba5a6418a9792b67cc679b0e6",
       "version_major": 2,
       "version_minor": 0
      },
      "text/plain": [
       "Downloading (…)nce_bert_config.json:   0%|          | 0.00/53.0 [00:00<?, ?B/s]"
      ]
     },
     "metadata": {},
     "output_type": "display_data"
    },
    {
     "data": {
      "application/vnd.jupyter.widget-view+json": {
       "model_id": "94bdbce42fd84f5dbca3ab534ac81911",
       "version_major": 2,
       "version_minor": 0
      },
      "text/plain": [
       "Downloading (…)cial_tokens_map.json:   0%|          | 0.00/112 [00:00<?, ?B/s]"
      ]
     },
     "metadata": {},
     "output_type": "display_data"
    },
    {
     "data": {
      "application/vnd.jupyter.widget-view+json": {
       "model_id": "e518002da42946df89f0868b3e5e879e",
       "version_major": 2,
       "version_minor": 0
      },
      "text/plain": [
       "Downloading (…)e9125/tokenizer.json:   0%|          | 0.00/466k [00:00<?, ?B/s]"
      ]
     },
     "metadata": {},
     "output_type": "display_data"
    },
    {
     "data": {
      "application/vnd.jupyter.widget-view+json": {
       "model_id": "43a5f60e7eab42acba7b765633cba70e",
       "version_major": 2,
       "version_minor": 0
      },
      "text/plain": [
       "Downloading (…)okenizer_config.json:   0%|          | 0.00/350 [00:00<?, ?B/s]"
      ]
     },
     "metadata": {},
     "output_type": "display_data"
    },
    {
     "data": {
      "application/vnd.jupyter.widget-view+json": {
       "model_id": "304356e290ec491f8d45ec90cadf6c4e",
       "version_major": 2,
       "version_minor": 0
      },
      "text/plain": [
       "Downloading (…)9125/train_script.py:   0%|          | 0.00/13.2k [00:00<?, ?B/s]"
      ]
     },
     "metadata": {},
     "output_type": "display_data"
    },
    {
     "data": {
      "application/vnd.jupyter.widget-view+json": {
       "model_id": "fed56e151ac743b6ab5c4cf5c9a53fae",
       "version_major": 2,
       "version_minor": 0
      },
      "text/plain": [
       "Downloading (…)7e55de9125/vocab.txt:   0%|          | 0.00/232k [00:00<?, ?B/s]"
      ]
     },
     "metadata": {},
     "output_type": "display_data"
    },
    {
     "data": {
      "application/vnd.jupyter.widget-view+json": {
       "model_id": "b064ed2d671848b8b351ca609c9eb7bd",
       "version_major": 2,
       "version_minor": 0
      },
      "text/plain": [
       "Downloading (…)5de9125/modules.json:   0%|          | 0.00/349 [00:00<?, ?B/s]"
      ]
     },
     "metadata": {},
     "output_type": "display_data"
    }
   ],
   "source": [
    "from sentence_transformers import SentenceTransformer, util\n",
    "model = SentenceTransformer('all-MiniLM-L6-v2')"
   ]
  },
  {
   "cell_type": "code",
   "execution_count": 45,
   "metadata": {
    "execution": {
     "iopub.execute_input": "2023-09-04T22:07:03.163125Z",
     "iopub.status.busy": "2023-09-04T22:07:03.162613Z",
     "iopub.status.idle": "2023-09-04T22:07:03.178918Z",
     "shell.execute_reply": "2023-09-04T22:07:03.177198Z",
     "shell.execute_reply.started": "2023-09-04T22:07:03.163078Z"
    }
   },
   "outputs": [],
   "source": [
    "def movieRecommenderEnhanced(movie_name, knn, matrix):\n",
    "  recommendation_list = [movie_name]\n",
    "  distances = [1]\n",
    "  try:\n",
    "    #Calculating distance between movies\n",
    "    dist, idx = knn.kneighbors(matrix.loc[movie_name].values.reshape(1,-1),n_neighbors=20)\n",
    "    for i in range(1, len(dist.flatten())):\n",
    "      movie_name = matrix.index[idx.flatten()[i]]\n",
    "      recommendation_list.append(movie_name)\n",
    "      distance = dist.flatten()[i]\n",
    "      distances.append(distance)\n",
    "  except:\n",
    "    print(f'The movie {movie_name} is not in our database. \\n Please note that our database contains only popular movies up until mid 2017.')\n",
    "\n",
    "  overview_embeddings = []\n",
    "  similarities = []\n",
    "  for movie in recommendation_list:\n",
    "    overview = df_meta[df_meta['original_title'] == movie]['overview'].values[0]\n",
    "    embedding = model.encode(overview)\n",
    "    overview_embeddings.append(embedding)\n",
    "    cosine_scores = util.cos_sim(overview_embeddings[0], embedding)\n",
    "    similarities.append(cosine_scores.item())\n",
    "\n",
    "  print(f'For your selection of {recommendation_list[0]}, I will recommend \\n')\n",
    "  counter = 1\n",
    "  for i in range(1 , len(recommendation_list)):\n",
    "    #Eliminating movies that their cosine similarity is lower than 0.2\n",
    "    if similarities[i] > 0.2:\n",
    "      print(f'{counter}- {recommendation_list[i]} and distance is {distances[i]:.3f}')\n",
    "      counter += 1"
   ]
  },
  {
   "cell_type": "markdown",
   "metadata": {},
   "source": [
    "Our system now takes movie overview as input and transform it to word embedding (a vector representing the overview). We do not recommend movies that has less than 0.2 cosine similarity to the movie we asked for recommendations.\n",
    "\n",
    "Please note that cosine similarity results are between 0.0 and 1.0. Also, we cannot expect large similarity scores between movies. 0.4-0.5 can be considered extremely high."
   ]
  },
  {
   "cell_type": "code",
   "execution_count": 46,
   "metadata": {
    "execution": {
     "iopub.execute_input": "2023-09-04T22:07:03.182903Z",
     "iopub.status.busy": "2023-09-04T22:07:03.182339Z",
     "iopub.status.idle": "2023-09-04T22:07:05.482026Z",
     "shell.execute_reply": "2023-09-04T22:07:05.48086Z",
     "shell.execute_reply.started": "2023-09-04T22:07:03.182856Z"
    }
   },
   "outputs": [
    {
     "name": "stdout",
     "output_type": "stream",
     "text": [
      "For your selection of Batman Begins, I will recommend \n",
      "\n",
      "1- The Dark Knight and distance is 0.234\n",
      "2- V for Vendetta and distance is 0.287\n",
      "3- The Incredibles and distance is 0.298\n",
      "4- Pirates of the Caribbean: The Curse of the Black Pearl and distance is 0.299\n",
      "5- Sin City and distance is 0.300\n",
      "6- Iron Man and distance is 0.301\n",
      "7- Kill Bill: Vol. 1 and distance is 0.312\n",
      "8- The Bourne Identity and distance is 0.314\n",
      "9- Spider-Man 2 and distance is 0.320\n",
      "10- Kill Bill: Vol. 2 and distance is 0.324\n",
      "11- Fight Club and distance is 0.328\n",
      "12- Spider-Man and distance is 0.329\n",
      "13- The Matrix and distance is 0.334\n"
     ]
    }
   ],
   "source": [
    "movieRecommenderEnhanced('Batman Begins', knn, rating_matrix_filled)"
   ]
  },
  {
   "cell_type": "markdown",
   "metadata": {},
   "source": [
    "We have some improvements. Our system no longer recommends LOTR triology for 'Batman Begins' movie. Although LOTR is a great movie, it has limited similarities with Nolan's Batman Begins movie. Yet, we can improve more by utilizing movie genres.\n",
    "\n",
    "At the next step, we will combine all movie tags to create a single string and look at embedding of that string. Later, we will eliminate some recommendations accordingly."
   ]
  },
  {
   "cell_type": "code",
   "execution_count": 47,
   "metadata": {
    "execution": {
     "iopub.execute_input": "2023-09-04T22:07:05.484432Z",
     "iopub.status.busy": "2023-09-04T22:07:05.48379Z",
     "iopub.status.idle": "2023-09-04T22:07:05.499567Z",
     "shell.execute_reply": "2023-09-04T22:07:05.498288Z",
     "shell.execute_reply.started": "2023-09-04T22:07:05.484396Z"
    }
   },
   "outputs": [],
   "source": [
    "def movieRecommenderEnhanced(movie_name, knn, matrix):\n",
    "  recommendation_list = [movie_name]\n",
    "  overview_distances = [1]\n",
    "  try:\n",
    "    dist, idx = knn.kneighbors(matrix.loc[movie_name].values.reshape(1,-1),n_neighbors=20)\n",
    "    for i in range(1, len(dist.flatten())):\n",
    "      movie_name = matrix.index[idx.flatten()[i]]\n",
    "      recommendation_list.append(movie_name)\n",
    "      distance = dist.flatten()[i]\n",
    "      overview_distances.append(distance)\n",
    "  except:\n",
    "    print(f'The movie {movie_name} is not in our database. \\n Please note that our database contains only popular movies up until mid 2017.')\n",
    "\n",
    "  overview_embeddings = []\n",
    "  overview_similarities = []\n",
    "  for movie in recommendation_list:\n",
    "    overview = df_meta[df_meta['original_title'] == movie]['overview'].values[0]\n",
    "    embedding = model.encode(overview)\n",
    "    overview_embeddings.append(embedding)\n",
    "    cosine_scores = util.cos_sim(overview_embeddings[0], embedding)\n",
    "    overview_similarities.append(cosine_scores.item())\n",
    "\n",
    "  keyword_embeddings = []\n",
    "  keyword_similarities = []\n",
    "  for movie in recommendation_list:\n",
    "    #Extracting keywords from the keywords column\n",
    "    #Which is not in proper JSON format\n",
    "    keywords = list(df_meta[df_meta['original_title'] == movie]['keywords'].values[0].split(\",\"))\n",
    "    tags = []\n",
    "    for tag in keywords:\n",
    "      if tag.startswith(\" 'name\"):\n",
    "        tags.append(tag[10:-2])\n",
    "    tags[-1] = tags[-1][:-1]\n",
    "\n",
    "    combined_tags = \" \".join(tags)\n",
    "    embedding = model.encode(combined_tags)\n",
    "    keyword_embeddings.append(embedding)\n",
    "    cosine_scores = util.cos_sim(keyword_embeddings[0], embedding)\n",
    "    keyword_similarities.append(cosine_scores.item())\n",
    "\n",
    "\n",
    "  print(f'For your selection of {recommendation_list[0]}, I will recommend \\n')\n",
    "  counter = 1\n",
    "  for i in range(1 , len(recommendation_list)):\n",
    "    if overview_similarities[i] > 0.2 and keyword_similarities[i] > 0.3:\n",
    "      print(f'{counter}- {recommendation_list[i]} and distance is {overview_distances[i]:.3f}')\n",
    "      counter += 1"
   ]
  },
  {
   "cell_type": "code",
   "execution_count": 48,
   "metadata": {
    "execution": {
     "iopub.execute_input": "2023-09-04T22:07:05.502892Z",
     "iopub.status.busy": "2023-09-04T22:07:05.502292Z",
     "iopub.status.idle": "2023-09-04T22:07:08.781672Z",
     "shell.execute_reply": "2023-09-04T22:07:08.780289Z",
     "shell.execute_reply.started": "2023-09-04T22:07:05.502843Z"
    }
   },
   "outputs": [
    {
     "name": "stdout",
     "output_type": "stream",
     "text": [
      "For your selection of Batman Begins, I will recommend \n",
      "\n",
      "1- The Dark Knight and distance is 0.234\n",
      "2- V for Vendetta and distance is 0.287\n",
      "3- The Incredibles and distance is 0.298\n",
      "4- Pirates of the Caribbean: The Curse of the Black Pearl and distance is 0.299\n",
      "5- Sin City and distance is 0.300\n",
      "6- Iron Man and distance is 0.301\n",
      "7- Kill Bill: Vol. 1 and distance is 0.312\n",
      "8- Spider-Man 2 and distance is 0.320\n",
      "9- Kill Bill: Vol. 2 and distance is 0.324\n",
      "10- Fight Club and distance is 0.328\n",
      "11- Spider-Man and distance is 0.329\n",
      "12- The Matrix and distance is 0.334\n"
     ]
    }
   ],
   "source": [
    "movieRecommenderEnhanced('Batman Begins', knn, rating_matrix_filled)"
   ]
  },
  {
   "cell_type": "markdown",
   "metadata": {},
   "source": [
    "This step eliminated 'The Bourne Identity' movie from the recommendations. I would be happy if it would eliminate 'The Incredibles' as well, but our recommender system seems fine. "
   ]
  },
  {
   "cell_type": "code",
   "execution_count": 49,
   "metadata": {
    "execution": {
     "iopub.execute_input": "2023-09-04T22:07:08.784462Z",
     "iopub.status.busy": "2023-09-04T22:07:08.783602Z"
    }
   },
   "outputs": [
    {
     "name": "stdout",
     "output_type": "stream",
     "text": [
      "For your selection of The Matrix Reloaded, I will recommend \n",
      "\n",
      "1- The Matrix Revolutions and distance is 0.197\n",
      "2- The Matrix and distance is 0.313\n",
      "3- Minority Report and distance is 0.316\n",
      "4- Star Wars: Episode II - Attack of the Clones and distance is 0.341\n",
      "5- Batman Begins and distance is 0.370\n"
     ]
    }
   ],
   "source": [
    "movieRecommenderEnhanced('The Matrix Reloaded', knn, rating_matrix_filled)"
   ]
  },
  {
   "cell_type": "markdown",
   "metadata": {},
   "source": [
    "# Conclusion\n",
    "\n",
    "Item-based colloborative filtering, enhanced with \"overview/tags embedding closeness filtering\" (eliminated recommendations from unrelated genres, even if many users liked them both) yielded satisfactory results for our study. Recommended movies are reasonably well-selected for given titles.\n",
    "\n",
    "As a note: we used a subset of the total available data in our study. This study can be enhanced using cast data, runtime (some people may have preference over shorter or longer movies), average vote rating (some people may only prefer high-rated movies), and so on."
   ]
  }
 ],
 "metadata": {
  "kernelspec": {
   "display_name": "Python 3 (ipykernel)",
   "language": "python",
   "name": "python3"
  },
  "language_info": {
   "codemirror_mode": {
    "name": "ipython",
    "version": 3
   },
   "file_extension": ".py",
   "mimetype": "text/x-python",
   "name": "python",
   "nbconvert_exporter": "python",
   "pygments_lexer": "ipython3",
   "version": "3.11.4"
  }
 },
 "nbformat": 4,
 "nbformat_minor": 4
}
